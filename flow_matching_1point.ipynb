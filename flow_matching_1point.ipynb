{
  "nbformat": 4,
  "nbformat_minor": 0,
  "metadata": {
    "colab": {
      "provenance": [],
      "toc_visible": true,
      "include_colab_link": true
    },
    "kernelspec": {
      "name": "python3",
      "display_name": "Python 3"
    },
    "language_info": {
      "name": "python"
    }
  },
  "cells": [
    {
      "cell_type": "markdown",
      "metadata": {
        "id": "view-in-github",
        "colab_type": "text"
      },
      "source": [
        "<a href=\"https://colab.research.google.com/github/melanieyes/flow-matching/blob/main/flow_matching_1point.ipynb\" target=\"_parent\"><img src=\"https://colab.research.google.com/assets/colab-badge.svg\" alt=\"Open In Colab\"/></a>"
      ]
    },
    {
      "cell_type": "markdown",
      "source": [
        "## Import"
      ],
      "metadata": {
        "id": "OP_tjbuQaOUq"
      }
    },
    {
      "cell_type": "code",
      "source": [
        "import torch\n",
        "import torch.nn as nn\n",
        "import torch.optim as optim\n",
        "import matplotlib.pyplot as plt\n",
        "import numpy as np"
      ],
      "metadata": {
        "id": "kWII_UzgyjN-"
      },
      "execution_count": null,
      "outputs": []
    },
    {
      "cell_type": "markdown",
      "source": [
        "## Data"
      ],
      "metadata": {
        "id": "GdJ5xEe1aet7"
      }
    },
    {
      "cell_type": "code",
      "source": [
        "import torch\n",
        "x_1 = torch.tensor([0.5])"
      ],
      "metadata": {
        "id": "ikc_Cm9sad34"
      },
      "execution_count": null,
      "outputs": []
    },
    {
      "cell_type": "markdown",
      "source": [
        "## Flow Matching"
      ],
      "metadata": {
        "id": "YEZ5O3pWaviW"
      }
    },
    {
      "cell_type": "code",
      "source": [
        "sig_min = 0"
      ],
      "metadata": {
        "id": "DhubZZ7ka4QR"
      },
      "execution_count": null,
      "outputs": []
    },
    {
      "cell_type": "markdown",
      "source": [
        "## Model"
      ],
      "metadata": {
        "id": "Bw03lL_2bRXI"
      }
    },
    {
      "cell_type": "code",
      "source": [
        "class Flow(nn.Module):\n",
        "  def __init__(self) -> None:\n",
        "    super().__init__()\n",
        "\n",
        "    self.linear = nn.Linear(2, 1)\n",
        "\n",
        "  def forward(self,  t: torch.Tensor, x: torch.Tensor) -> torch.Tensor:\n",
        "    t = t.unsqueeze(-1).float()\n",
        "    x = torch.cat([x_t, t], dim=1)\n",
        "    x = self.linear(x)\n",
        "    x = nn.Tanh()(x)\n",
        "    return x"
      ],
      "metadata": {
        "id": "Vl5Gjfjlbtjv"
      },
      "execution_count": null,
      "outputs": []
    },
    {
      "cell_type": "code",
      "source": [],
      "metadata": {
        "id": "Auyxtfp8zXBv"
      },
      "execution_count": null,
      "outputs": []
    },
    {
      "cell_type": "markdown",
      "source": [
        "## Training"
      ],
      "metadata": {
        "id": "KEh7LeZMbuHr"
      }
    },
    {
      "cell_type": "code",
      "source": [
        "# Khởi tạo model\n",
        "model = Flow()\n",
        "\n",
        "# Chuẩn bị optimizer và loss function\n",
        "optimizer = torch.optim.Adam(model.parameters(), lr=0.1)\n",
        "loss_fn = nn.MSELoss()"
      ],
      "metadata": {
        "id": "NnVM_DCfcRXB"
      },
      "execution_count": null,
      "outputs": []
    },
    {
      "cell_type": "code",
      "source": [
        "losses = []\n",
        "steps = 500\n",
        "\n",
        "x_1 = x_1.unsqueeze(0)\n",
        "for step in range(steps):\n",
        "    optimizer.zero_grad()\n",
        "\n",
        "    # Get x_0\n",
        "    x_0 = torch.randn_like(x_1)\n",
        "\n",
        "    # Get t\n",
        "    t = torch.rand(1)\n",
        "\n",
        "    # Target\n",
        "    target = x_1 - (1 - sig_min) * x_0\n",
        "\n",
        "    # Model predict\n",
        "    x_t = (1 - (1-sig_min)*t) * x_0 + t*x_1\n",
        "    pred = model(t, x_t)\n",
        "\n",
        "    # Update\n",
        "    loss = loss_fn(pred, target)\n",
        "    loss.backward()\n",
        "    optimizer.step()\n",
        "\n",
        "    if step % 100 == 0:\n",
        "        losses += [loss.detach()]\n",
        "        print(f\"Step: {step}, loss: {loss.item()}\")"
      ],
      "metadata": {
        "colab": {
          "base_uri": "https://localhost:8080/"
        },
        "id": "IYzNR9stbv0l",
        "outputId": "af8d96c9-da1a-4f2b-ae32-ea23f61e29f7"
      },
      "execution_count": null,
      "outputs": [
        {
          "output_type": "stream",
          "name": "stdout",
          "text": [
            "Step: 0, loss: 0.007723119575530291\n",
            "Step: 100, loss: 0.574454665184021\n",
            "Step: 200, loss: 0.003689428325742483\n",
            "Step: 300, loss: 0.5774726867675781\n",
            "Step: 400, loss: 0.024454666301608086\n"
          ]
        }
      ]
    },
    {
      "cell_type": "markdown",
      "source": [
        "## Sampling"
      ],
      "metadata": {
        "id": "xkWsczKbbzAI"
      }
    },
    {
      "cell_type": "code",
      "source": [
        "steps = 10\n",
        "with torch.no_grad():\n",
        "    x_0 = torch.randn_like(x_1)\n",
        "    t = torch.zeros(1)\n",
        "    delta = 1/steps\n",
        "    x_t = x_0\n",
        "    list_x_t = [x_t]\n",
        "    for i in range(steps):\n",
        "        x_t = x_t + delta*model(t, x_t)\n",
        "        t = t + delta\n",
        "        list_x_t.append(x_t)\n"
      ],
      "metadata": {
        "id": "lLNdUTe_b1z8"
      },
      "execution_count": null,
      "outputs": []
    },
    {
      "cell_type": "code",
      "source": [
        "list_x_t"
      ],
      "metadata": {
        "colab": {
          "base_uri": "https://localhost:8080/"
        },
        "id": "KQ6kQOMfrPm2",
        "outputId": "ee5dad16-5fe9-4e31-c790-dc230efb6837"
      },
      "execution_count": null,
      "outputs": [
        {
          "output_type": "execute_result",
          "data": {
            "text/plain": [
              "[tensor([[-0.2825]]),\n",
              " tensor([[-0.1838]]),\n",
              " tensor([[-0.0861]]),\n",
              " tensor([[0.0099]]),\n",
              " tensor([[0.1031]]),\n",
              " tensor([[0.1917]]),\n",
              " tensor([[0.2737]]),\n",
              " tensor([[0.3471]]),\n",
              " tensor([[0.4108]]),\n",
              " tensor([[0.4649]]),\n",
              " tensor([[0.5110]])]"
            ]
          },
          "metadata": {},
          "execution_count": 12
        }
      ]
    },
    {
      "cell_type": "code",
      "source": [],
      "metadata": {
        "id": "AtqhEwp71ZZO"
      },
      "execution_count": null,
      "outputs": []
    }
  ]
}